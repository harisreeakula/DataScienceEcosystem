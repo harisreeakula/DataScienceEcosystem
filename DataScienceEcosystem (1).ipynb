{
 "cells": [
  {
   "cell_type": "markdown",
   "id": "3bda2512",
   "metadata": {},
   "source": [
    "# Data Science Tools and EcoSystem \n"
   ]
  },
  {
   "cell_type": "markdown",
   "id": "f880e2fb",
   "metadata": {},
   "source": [
    "In this notebook, Data Science Tools and Ecosystem are summarized."
   ]
  },
  {
   "cell_type": "markdown",
   "id": "5f3e2a2c",
   "metadata": {},
   "source": [
    "*Objectives:*\n",
    "- List popular languages for Data Science\n",
    "- List commonly used libraries in Data Science\n",
    "- Create a markdown cell with a table of Data Science tools\n",
    "- Create visualizations using Matplotlib and Seaborn\n",
    "- Perform data manipulation using Panda"
   ]
  },
  {
   "cell_type": "markdown",
   "id": "da2489e5",
   "metadata": {},
   "source": [
    "Some of the popular languages that Data Scientists use are:\n",
    "- python\n",
    "- R\n",
    "- SQL\n",
    "- java"
   ]
  },
  {
   "cell_type": "markdown",
   "id": "9fe2ae40",
   "metadata": {},
   "source": [
    "Some of the commonly used libraries used by Data Scientists include:\n",
    "- pandas\n",
    "- matplotlib\n",
    "- Seaborn\n",
    "- Numpy"
   ]
  },
  {
   "cell_type": "markdown",
   "id": "8119b8a6",
   "metadata": {},
   "source": [
    "|  Data Science Tools       |\n",
    "|--------------------------|\n",
    "| Jupyter Notebook         |\n",
    "| RStudio                  |\n",
    "| Apache Zeppelin          |"
   ]
  },
  {
   "cell_type": "markdown",
   "id": "062705e5",
   "metadata": {},
   "source": [
    "### Below are a few examples of evaluating arithmetic expressions in Python."
   ]
  },
  {
   "cell_type": "code",
   "execution_count": 12,
   "id": "e35733aa",
   "metadata": {},
   "outputs": [
    {
     "data": {
      "text/plain": [
       "17"
      ]
     },
     "execution_count": 12,
     "metadata": {},
     "output_type": "execute_result"
    }
   ],
   "source": [
    "#This a simple arithmetic expression to mutiply then add integers.\n",
    "\n",
    "(3*4)+5"
   ]
  },
  {
   "cell_type": "code",
   "execution_count": 13,
   "id": "0b269885",
   "metadata": {},
   "outputs": [
    {
     "data": {
      "text/plain": [
       "33.333333333333336"
      ]
     },
     "execution_count": 13,
     "metadata": {},
     "output_type": "execute_result"
    }
   ],
   "source": [
    "#This will convert 200 minutes to hours by diving by 60.\n",
    "\n",
    "200/6"
   ]
  },
  {
   "cell_type": "markdown",
   "id": "64a0e0dc",
   "metadata": {},
   "source": [
    "## Author\n",
    "Hari Sree"
   ]
  },
  {
   "cell_type": "code",
   "execution_count": null,
   "id": "0ba853fe",
   "metadata": {},
   "outputs": [],
   "source": []
  }
 ],
 "metadata": {
  "kernelspec": {
   "display_name": "Python 3 (ipykernel)",
   "language": "python",
   "name": "python3"
  },
  "language_info": {
   "codemirror_mode": {
    "name": "ipython",
    "version": 3
   },
   "file_extension": ".py",
   "mimetype": "text/x-python",
   "name": "python",
   "nbconvert_exporter": "python",
   "pygments_lexer": "ipython3",
   "version": "3.11.5"
  }
 },
 "nbformat": 4,
 "nbformat_minor": 5
}
