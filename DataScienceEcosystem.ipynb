{
 "cells": [
  {
   "cell_type": "markdown",
   "id": "e8ba71b5",
   "metadata": {},
   "source": [
    "# Data Science Tools \n"
   ]
  },
  {
   "cell_type": "markdown",
   "id": "b13497c6",
   "metadata": {},
   "source": [
    "# Ecosystem"
   ]
  },
  {
   "cell_type": "markdown",
   "id": "5aed4281",
   "metadata": {},
   "source": [
    "In this notebook, Data Science Tools and Ecosystem are summarized."
   ]
  },
  {
   "cell_type": "markdown",
   "id": "e967fd54",
   "metadata": {},
   "source": [
    "*Objectives:*\n",
    "- List popular languages for Data Science\n",
    "- List commonly used libraries in Data Science\n",
    "- Create a markdown cell with a table of Data Science tools\n",
    "- Create visualizations using Matplotlib and Seaborn\n",
    "- Perform data manipulation using Panda"
   ]
  },
  {
   "cell_type": "markdown",
   "id": "bc2d216c",
   "metadata": {},
   "source": [
    "Some of the popular languages that Data Scientists use are:\n"
   ]
  },
  {
   "cell_type": "markdown",
   "id": "01f029f1",
   "metadata": {},
   "source": [
    "o=[\"python\",\"R\",\"SQL\",\"java\"]"
   ]
  },
  {
   "cell_type": "markdown",
   "id": "94fcb184",
   "metadata": {},
   "source": [
    "Some of the commonly used libraries used by Data Scientists include:"
   ]
  },
  {
   "cell_type": "markdown",
   "id": "588f648d",
   "metadata": {},
   "source": [
    "libraries=[\"Pandas\",\"Numpy\",\"Matplotlib\",\"Seaborn\"]"
   ]
  },
  {
   "cell_type": "markdown",
   "id": "2c764bcc",
   "metadata": {},
   "source": [
    "|  Data Science Tools       |\n",
    "|--------------------------|\n",
    "| Jupyter Notebook         |\n",
    "| RStudio                  |\n",
    "| Apache Zeppelin          |"
   ]
  },
  {
   "cell_type": "markdown",
   "id": "588b10c8",
   "metadata": {},
   "source": [
    "### Below are a few examples of evaluating arithmetic expressions in Python."
   ]
  },
  {
   "cell_type": "code",
   "execution_count": 12,
   "id": "9de41a07",
   "metadata": {},
   "outputs": [
    {
     "data": {
      "text/plain": [
       "17"
      ]
     },
     "execution_count": 12,
     "metadata": {},
     "output_type": "execute_result"
    }
   ],
   "source": [
    "#This a simple arithmetic expression to mutiply then add integers.\n",
    "\n",
    "(3*4)+5"
   ]
  },
  {
   "cell_type": "code",
   "execution_count": 13,
   "id": "b26fa3ad",
   "metadata": {},
   "outputs": [
    {
     "data": {
      "text/plain": [
       "33.333333333333336"
      ]
     },
     "execution_count": 13,
     "metadata": {},
     "output_type": "execute_result"
    }
   ],
   "source": [
    "#This will convert 200 minutes to hours by diving by 60.\n",
    "\n",
    "200/6"
   ]
  },
  {
   "cell_type": "markdown",
   "id": "db207ed2",
   "metadata": {},
   "source": [
    "## Author\n",
    "Hari Sree"
   ]
  },
  {
   "cell_type": "code",
   "execution_count": null,
   "id": "072a3f76",
   "metadata": {},
   "outputs": [],
   "source": []
  }
 ],
 "metadata": {
  "kernelspec": {
   "display_name": "Python 3 (ipykernel)",
   "language": "python",
   "name": "python3"
  },
  "language_info": {
   "codemirror_mode": {
    "name": "ipython",
    "version": 3
   },
   "file_extension": ".py",
   "mimetype": "text/x-python",
   "name": "python",
   "nbconvert_exporter": "python",
   "pygments_lexer": "ipython3",
   "version": "3.11.5"
  }
 },
 "nbformat": 4,
 "nbformat_minor": 5
}
